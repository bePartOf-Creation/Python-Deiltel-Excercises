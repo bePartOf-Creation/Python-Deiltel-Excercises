{
  "nbformat": 4,
  "nbformat_minor": 0,
  "metadata": {
    "colab": {
      "name": "DataScience.ipynb",
      "provenance": [],
      "collapsed_sections": [],
      "authorship_tag": "ABX9TyNHdvFgQAugL9yCKH6stlzG",
      "include_colab_link": true
    },
    "kernelspec": {
      "name": "python3",
      "display_name": "Python 3"
    }
  },
  "cells": [
    {
      "cell_type": "markdown",
      "metadata": {
        "id": "view-in-github",
        "colab_type": "text"
      },
      "source": [
        "<a href=\"https://colab.research.google.com/github/bePartOf-Creation/Python-Deiltel-Excercises/blob/dev/DataScience.ipynb\" target=\"_parent\"><img src=\"https://colab.research.google.com/assets/colab-badge.svg\" alt=\"Open In Colab\"/></a>"
      ]
    },
    {
      "cell_type": "code",
      "metadata": {
        "id": "m33ZY6UJPsxX"
      },
      "source": [
        ""
      ],
      "execution_count": null,
      "outputs": []
    },
    {
      "cell_type": "code",
      "metadata": {
        "id": "csTjTF83R7oI",
        "colab": {
          "base_uri": "https://localhost:8080/"
        },
        "outputId": "301be4a5-e818-45ea-f613-953ff11c85ba"
      },
      "source": [
        "def check_vowels(word):\r\n",
        "    contains = False\r\n",
        "    for i in word:\r\n",
        "        word_lower = i.lower()\r\n",
        "        if word_lower in ['a', 'e', 'i', 'o', 'u']:\r\n",
        "            contains = True\r\n",
        "            break\r\n",
        "    if contains:\r\n",
        "        print(\"String contain a vowel\")\r\n",
        "    else:\r\n",
        "        print(\"Does not contain a vowel\")\r\n",
        "\r\n",
        "\r\n",
        "def main():\r\n",
        "    user_input = input(\"  Enter a String\")\r\n",
        "    check_vowels(user_input)\r\n",
        "\r\n",
        "\r\n",
        "if __name__ == '__main__':\r\n",
        "    main()\r\n",
        "\r\n",
        "\r\n",
        "\r\n"
      ],
      "execution_count": 9,
      "outputs": [
        {
          "output_type": "stream",
          "text": [
            "  Enter a Stringbeautiful\n",
            "String contain a vowel\n"
          ],
          "name": "stdout"
        }
      ]
    },
    {
      "cell_type": "code",
      "metadata": {
        "id": "Pe152m8qU_AO",
        "colab": {
          "base_uri": "https://localhost:8080/"
        },
        "outputId": "6495d36b-6579-4898-ed68-66f7361d6477"
      },
      "source": [
        "def checkfor_OddorEven(num: int):\r\n",
        "  number = int(num)\r\n",
        "  if(number % 2 == 0):\r\n",
        "    print(f\"Your Input {num}, is Even Number\")\r\n",
        "  elif(number % 2 == 1):\r\n",
        "    print(f\"Your Input {num}, is an Odd Number\")\r\n",
        "\r\n",
        "  return number\r\n",
        "\r\n",
        "\r\n",
        "def main():\r\n",
        "  num = input(\"Enter a Number\")\r\n",
        "  checkfor_OddorEven(num)\r\n",
        "\r\n",
        "if __name__ == '__main__':\r\n",
        "    main()\r\n",
        "\r\n",
        "\r\n",
        "\r\n"
      ],
      "execution_count": 17,
      "outputs": [
        {
          "output_type": "stream",
          "text": [
            "Enter a Number5\n",
            "Your Input 5, is an Odd Number\n"
          ],
          "name": "stdout"
        }
      ]
    },
    {
      "cell_type": "code",
      "metadata": {
        "colab": {
          "base_uri": "https://localhost:8080/"
        },
        "id": "BfEyrMrLqtMu",
        "outputId": "387f5b4e-5017-44ae-e09f-7bfd45e503ab"
      },
      "source": [
        "def sort_even():\r\n",
        "  num = [3,2,18,0,7,6]\r\n",
        "  num.sort()\r\n",
        "  new_even = []\r\n",
        "  new_odd = []\r\n",
        "\r\n",
        "  for i in num:\r\n",
        "    if (i % 2 == 0):\r\n",
        "     new_even.append(i) \r\n",
        "    elif(i % 2 == 1):\r\n",
        "      new_odd.append(i)\r\n",
        "  new_even += new_odd\r\n",
        "  return new_even\r\n",
        "def main():\r\n",
        "  print(sort_even())\r\n",
        "\r\n",
        "\r\n",
        "if __name__ == '__main__':\r\n",
        "    main()\r\n",
        "\r\n",
        "    "
      ],
      "execution_count": 31,
      "outputs": [
        {
          "output_type": "stream",
          "text": [
            "[0, 2, 6, 18, 3, 7]\n"
          ],
          "name": "stdout"
        }
      ]
    },
    {
      "cell_type": "code",
      "metadata": {
        "colab": {
          "base_uri": "https://localhost:8080/"
        },
        "id": "Dx0bmRDTyvji",
        "outputId": "8077c381-a1fb-4775-fcb5-34b72a6d79c6"
      },
      "source": [
        "import pandas as pd\r\n",
        "dataframe = pd.read_csv(\"PastHires.csv\")\r\n",
        "dataframe\r\n",
        "# dataframe.head()\r\n",
        "# dataframe.tail(7)\r\n",
        "# dataframe.shape\r\n",
        "# len(dataframe)\r\n",
        "# dataframe.columns\r\n",
        "# dataframe.index\r\n",
        "# dataframe[\"Hired\"]\r\n",
        "dataframe[\"Hired\"][5:11]\r\n",
        "# dataframe['Hired'][5]\r\n",
        "# dataframe[['Years Experience',\"Hired\"]]\r\n",
        "# dataframe.sort_values(['Years Experience'])\r\n",
        "\r\n",
        "degree_counts = dataframe[\"Level of Education\"].value_counts()\r\n",
        "degree_counts\r\n",
        "\r\n",
        "# degree_counts.plot(kind='bar')\r\n",
        "\r\n",
        "# degree_counts.plot(kind='pie')\r\n"
      ],
      "execution_count": 80,
      "outputs": [
        {
          "output_type": "execute_result",
          "data": {
            "text/plain": [
              "BS     7\n",
              "PhD    4\n",
              "MS     2\n",
              "Name: Level of Education, dtype: int64"
            ]
          },
          "metadata": {
            "tags": []
          },
          "execution_count": 80
        }
      ]
    },
    {
      "cell_type": "code",
      "metadata": {
        "colab": {
          "base_uri": "https://localhost:8080/",
          "height": 286
        },
        "id": "7tduHVRJ-asK",
        "outputId": "9925f3d8-00ee-4498-f65d-bc7485f9439b"
      },
      "source": [
        "import pandas as pd\r\n",
        "dataframe = pd.read_csv(\"PastHires.csv\")\r\n",
        "dataframe\r\n",
        "new_dataframe = dataframe[['Previous employers','Hired']][5:11]\r\n",
        "new_dataframe\r\n",
        "\r\n",
        "new_dataframe.plot(kind='bar')"
      ],
      "execution_count": 84,
      "outputs": [
        {
          "output_type": "execute_result",
          "data": {
            "text/plain": [
              "<matplotlib.axes._subplots.AxesSubplot at 0x7f93b1d79f50>"
            ]
          },
          "metadata": {
            "tags": []
          },
          "execution_count": 84
        },
        {
          "output_type": "display_data",
          "data": {
            "image/png": "[encoded data removed]",
            "text/plain": [
              "<Figure size 432x288 with 1 Axes>"
            ]
          },
          "metadata": {
            "tags": [],
            "needs_background": "light"
          }
        }
      ]
    }
  ]
}